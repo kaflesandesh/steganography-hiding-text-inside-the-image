{
  "nbformat": 4,
  "nbformat_minor": 0,
  "metadata": {
    "colab": {
      "name": "SandeshFinalProject.ipynb",
      "provenance": [],
      "collapsed_sections": []
    },
    "kernelspec": {
      "name": "python3",
      "display_name": "Python 3"
    },
    "language_info": {
      "name": "python"
    }
  },
  "cells": [
    {
      "cell_type": "markdown",
      "source": [
        "This is a simple implementation of steganography\n",
        "Hiding text inside the image"
      ],
      "metadata": {
        "id": "AlOjzoX57m_Y"
      }
    },
    {
      "cell_type": "code",
      "source": [
        "def generate_binary_8bitdata(data):\n",
        "    # make a list of binary codes of given data\n",
        "    bin_data = []\n",
        "    for i in data:\n",
        "      # format represents the how the value will be represented as \n",
        "      # ord Return the Unicode code point for a one-character string,\n",
        "      # '08b' convert int to binary from ASCII code of text\n",
        "        bin_data.append(format(ord(i), '08b'))\n",
        "    return bin_data"
      ],
      "metadata": {
        "id": "1hZGg7Jp84KY"
      },
      "execution_count": null,
      "outputs": []
    },
    {
      "cell_type": "code",
      "source": [
        "# PIL enables to use image in python\n",
        "# without this libracy we can not import and export image inside our file\n",
        "from PIL import Image"
      ],
      "metadata": {
        "id": "nk2rmUGy7lVT"
      },
      "execution_count": null,
      "outputs": []
    },
    {
      "cell_type": "code",
      "source": [
        "# in pixels we can write/modify according to the 8-bit binary data\n",
        "def write_in_pixel(pixel, msg):\n",
        "    data_list = generate_binary_8bitdata(msg)\n",
        "    # len() finds the lenth of the list here\n",
        "    bin_length = len(data_list)\n",
        "    # iter() returs itirator object\n",
        "    pix_data = iter(pixel)\n",
        "    for x in range (bin_length):\n",
        "        # binary data from pixel manupulation (extraction)\n",
        "        pixel = [\n",
        "                value for value in \n",
        "               (pix_data.__next__ ()[:3] +\n",
        "                pix_data.__next__ ()[:3] +\n",
        "                pix_data.__next__ ()[:3])\n",
        "               ]\n",
        "\n",
        "        # let's change the pixel value >> odd_pix = 1 and even_pix = 0\n",
        "        #Digital image constructed by 2-Dimensions array of the pixels. \n",
        "        # Each pixel is identified by its coordinates (co-x, co-y) and \n",
        "        # its value and characterized by matrix size, pixel depth, and resolution.\n",
        "        # The size of the matrix is determined by the number of columns (cn) \n",
        "        # and the number of rows (rn) of the image matrix (cn × rn).\n",
        "        # Matrix size is may vary because it is selected by the operator. \n",
        "        # Higher the matrix dimension higher the resolution of the image.\n",
        "        for y in range (0, 8):\n",
        "            if (data_list[x][y]) == '0' and (pixel[y] % 2) != 0:\n",
        "                pixel[y] = pixel[y] - 1\n",
        "\n",
        "            elif (data_list[x][y]) == '1' and (pixel[y] % 2) == 0:\n",
        "                if pixel[y] != 0:\n",
        "                    pixel[y] = pixel[y] - 1\n",
        "                else:\n",
        "                    pixel[y] = pixel[y] + 1  \n",
        "        # doing negation or subtraction because need to work on the first value of list whose index is 0\n",
        "        if x == (bin_length - 1):\n",
        "            if pixel[-1] % 2 == 0:\n",
        "                if pixel[-1] != 0:\n",
        "                    pixel[-1] = pixel[-1] - 1\n",
        "                else:\n",
        "                    pixel[-1] = pixel[-1] + 1\n",
        "        else:\n",
        "            if pixel[-1] % 2 != 0:\n",
        "                pixel[-1] = pixel[-1] - 1\n",
        "                \n",
        "        # yield executes previous yield state also if there is any\n",
        "        # the following yeild act as a pixel code generator\n",
        "        pixel = tuple(pixel)\n",
        "        # we added pixel value before now we can move from one value to another\n",
        "        yield pixel[0:3]\n",
        "        yield pixel[3:6]\n",
        "        yield pixel[6:9]"
      ],
      "metadata": {
        "id": "hr2yPtux89lU"
      },
      "execution_count": null,
      "outputs": []
    },
    {
      "cell_type": "code",
      "source": [
        "# This function will take image and message as input\n",
        "def encode_enc(image_ref, msg):\n",
        "    size_img = image_ref.size[0]\n",
        "\n",
        "    # create a pixel tuple and go through for loop\n",
        "    (x, y) = (0, 0)\n",
        "    for pixel in write_in_pixel(image_ref.getdata(), msg):\n",
        "        # Putting modified pixel tuple in the new image\n",
        "        image_ref.putpixel((x, y), pixel)\n",
        "        if x == size_img - 1:\n",
        "            x = 0\n",
        "            y = y + 1\n",
        "        else:\n",
        "            x = x + 1"
      ],
      "metadata": {
        "id": "8GQBEhyz9Bw_"
      },
      "execution_count": null,
      "outputs": []
    },
    {
      "cell_type": "code",
      "source": [
        "# to remove unnecessary spaces in string data\n",
        "def remove(string):\n",
        "  return string.replace(\" \", \"\")"
      ],
      "metadata": {
        "id": "Hcd-NuzFLpUF"
      },
      "execution_count": null,
      "outputs": []
    },
    {
      "cell_type": "code",
      "source": [
        "# Encode data into image\n",
        "def hide_message():\n",
        "    input_img = input(\"\\nEnter image name *with extension*:\\n\")\n",
        "    while len(input_img) == 0:\n",
        "      input_img = input(\"\\nEnter image name *with extension*:\\n\")\n",
        "\n",
        "    try:\n",
        "      # opening image in reading mode\n",
        "      image = Image.open (input_img, 'r')\n",
        "      # if len(image) == 0:\n",
        "      #   raise FileNotFoundError(\"No such image found\")\n",
        "      #   main()\n",
        "    except:\n",
        "       print(\"No such file fund, according to the given name. Try again.\\n\")\n",
        "       main() \n",
        "    finally:    \n",
        "      message = input (\"\\nEnter you message to hide :\\n\")\n",
        "      while len(message) == 0:\n",
        "        print(\"No message given. Try again.\")\n",
        "        message = input (\"\\nEnter you message to hide\\n\")\n",
        "\n",
        "      image_ref = image.copy()\n",
        "      # let's load the image and message to the funtion\n",
        "      encode_enc(image_ref, message)\n",
        "\n",
        "      # for better practice let's create new image with hidden message\n",
        "      new_img_name = input (\"\\nSystem will create new image.\\n Enter name *without extension*:\\n\")\n",
        "      if len(new_img_name) == 0:\n",
        "        new_img_name = input(\"\\nSystem will create new image.\\n Enter name *without extension*:\\n\")\n",
        "      else:\n",
        "        # The following code creats new image ext with png\n",
        "        image_ref.save(f'{remove(new_img_name)}.png')\n",
        "        "
      ],
      "metadata": {
        "id": "KHGcJLbl9MFA"
      },
      "execution_count": null,
      "outputs": []
    },
    {
      "cell_type": "code",
      "execution_count": null,
      "metadata": {
        "id": "1XtQSCuXHSqp"
      },
      "outputs": [],
      "source": [
        "# Decode the data in the image\n",
        "def extract_message():  \n",
        "    text = ''\n",
        "    img_name = input (\"\\nYour image name *with extension* to the system:\\n\")    \n",
        "    \n",
        "    while len(img_name) == 0:\n",
        "      img_name = input (\"\\nYour image name *with extension* to the system:\\n\")\n",
        "\n",
        "    # opening image in reading mode\n",
        "    try:\n",
        "      image = Image.open(img_name, 'r')\n",
        "      img_data = iter(image.getdata())\n",
        "    except:\n",
        "      print(\"No such file fund, according to the given name. Try again.\\n\")\n",
        "      main()\n",
        "    finally:   \n",
        "      while True:\n",
        "          pixels = [pvalue for pvalue in \n",
        "                    (img_data.__next__ ()[:3] +\n",
        "                    img_data.__next__ ()[:3] +\n",
        "                    img_data.__next__ ()[:3])\n",
        "                    ]\n",
        "\n",
        "          # string of binary data\n",
        "          bin_str_data = ''\n",
        "          for i in pixels[:8]:\n",
        "              if (i % 2) == 0:\n",
        "                  bin_str_data = bin_str_data + '0'\n",
        "              else:\n",
        "                  bin_str_data = bin_str_data + '1'\n",
        "\n",
        "          # storing extracted charecter to the message as a single string\n",
        "          text = text + chr(int(bin_str_data, 2))\n",
        "          if (pixels[-1] % 2) != 0:\n",
        "              return text"
      ]
    },
    {
      "cell_type": "code",
      "source": [
        "def text_to_file(text):\n",
        "  # Save the data into text file\n",
        "  file_steg_data = open(\"output.txt\",\"w\")\n",
        "  file_steg_data.write(text)\n",
        "  file_steg_data.close()\n",
        "  # once it done it creats a .txt file in a working directory"
      ],
      "metadata": {
        "id": "7eNEfYCXX1Gl"
      },
      "execution_count": null,
      "outputs": []
    },
    {
      "cell_type": "code",
      "source": [
        "# Application execution area\n",
        "def main():\n",
        "    choice = int(input(\"Type 1 > To hide message\\nType 2 > To extract message\\nType 3 > To Exit.\\n\"))\n",
        "    print(f'You have selected the option {choice}\\n')\n",
        "    if choice == 1:\n",
        "      hide_message()\n",
        "      if hide_message:\n",
        "        print(\"Your message has been encoded into the picture.\\nThank you for using the system.\")\n",
        "      # else:\n",
        "      #   main([])\n",
        "    elif choice == 2:\n",
        "      hidden_message = extract_message()\n",
        "      print(f'The message was:\\n{hidden_message}\\n\\nThank you for using the system.')      \n",
        "      text_to_file(hidden_message)\n",
        "\n",
        "    elif choice == 3:\n",
        "      print(\"Thank you for using the system.\")\n",
        "      exit()\n",
        "    else:\n",
        "      print(\"Choose correct option.\")\n",
        "      main([])"
      ],
      "metadata": {
        "id": "XFYUsVoJ9HJf"
      },
      "execution_count": null,
      "outputs": []
    },
    {
      "cell_type": "code",
      "source": [
        "if __name__ == '__main__':\n",
        "  main ()"
      ],
      "metadata": {
        "id": "fR26a_8IotUy"
      },
      "execution_count": null,
      "outputs": []
    }
  ]
}